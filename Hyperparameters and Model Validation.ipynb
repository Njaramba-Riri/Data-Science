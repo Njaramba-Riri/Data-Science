{
 "cells": [
  {
   "cell_type": "markdown",
   "id": "67a22df9",
   "metadata": {},
   "source": [
    "### Thinking About Model Validation\n"
   ]
  },
  {
   "cell_type": "markdown",
   "id": "537d28c4",
   "metadata": {},
   "source": [
    "#### Model validation the wrong way"
   ]
  },
  {
   "cell_type": "code",
   "execution_count": 1,
   "id": "312a6ac3",
   "metadata": {},
   "outputs": [],
   "source": [
    "from sklearn.datasets import load_iris\n",
    "iris=load_iris()\n",
    "X=iris.data\n",
    "y=iris.target"
   ]
  },
  {
   "cell_type": "code",
   "execution_count": 7,
   "id": "a6ca36c3",
   "metadata": {},
   "outputs": [],
   "source": [
    "from sklearn.neighbors import KNeighborsClassifier\n",
    "model=KNeighborsClassifier(n_neighbors=1)"
   ]
  },
  {
   "cell_type": "code",
   "execution_count": 8,
   "id": "ec561764",
   "metadata": {},
   "outputs": [],
   "source": [
    "model.fit(X,y)\n",
    "y_model=model.predict(X)"
   ]
  },
  {
   "cell_type": "code",
   "execution_count": 9,
   "id": "dc1e8c9d",
   "metadata": {},
   "outputs": [],
   "source": [
    "from sklearn.metrics import accuracy_score"
   ]
  },
  {
   "cell_type": "code",
   "execution_count": 10,
   "id": "de38bae9",
   "metadata": {},
   "outputs": [
    {
     "data": {
      "text/plain": [
       "1.0"
      ]
     },
     "execution_count": 10,
     "metadata": {},
     "output_type": "execute_result"
    }
   ],
   "source": [
    "accuracy_score(y,y_model)"
   ]
  },
  {
   "cell_type": "markdown",
   "id": "3de83037",
   "metadata": {},
   "source": [
    "#### Model validation the right way: Holdout sets"
   ]
  },
  {
   "cell_type": "code",
   "execution_count": 13,
   "id": "1b0e16d3",
   "metadata": {},
   "outputs": [
    {
     "data": {
      "text/plain": [
       "0.9066666666666666"
      ]
     },
     "execution_count": 13,
     "metadata": {},
     "output_type": "execute_result"
    }
   ],
   "source": [
    "from sklearn.model_selection import train_test_split\n",
    "#split data with 50% in each set\n",
    "X1,X2,y1,y2=train_test_split(X,y, random_state=0,\n",
    "                            train_size=0.5)\n",
    "\n",
    "#fit the model on one set of data\n",
    "model.fit(X1,y1)\n",
    "\n",
    "#evaluate the model on the second set\n",
    "y2_model=model.predict(X2)\n",
    "accuracy_score(y2,y2_model)"
   ]
  },
  {
   "cell_type": "markdown",
   "id": "e55b1ca7",
   "metadata": {},
   "source": [
    "#### Model validation via cross-validation"
   ]
  },
  {
   "cell_type": "code",
   "execution_count": 14,
   "id": "21d02429",
   "metadata": {},
   "outputs": [
    {
     "data": {
      "text/plain": [
       "(0.96, 0.9066666666666666)"
      ]
     },
     "execution_count": 14,
     "metadata": {},
     "output_type": "execute_result"
    }
   ],
   "source": [
    "y2_model=model.fit(X1,y1).predict(X2)\n",
    "y1_model=model.fit(X2,y2).predict(X1)\n",
    "accuracy_score(y1,y1_model), accuracy_score(y2,y2_model)"
   ]
  },
  {
   "cell_type": "code",
   "execution_count": 15,
   "id": "73ac727b",
   "metadata": {},
   "outputs": [
    {
     "data": {
      "text/plain": [
       "array([0.96666667, 0.96666667, 0.93333333, 0.93333333, 1.        ])"
      ]
     },
     "execution_count": 15,
     "metadata": {},
     "output_type": "execute_result"
    }
   ],
   "source": [
    "from sklearn.model_selection import cross_val_score\n",
    "cross_val_score(model,X,y,cv=5)"
   ]
  },
  {
   "cell_type": "code",
   "execution_count": 22,
   "id": "845aeefe",
   "metadata": {},
   "outputs": [
    {
     "data": {
      "text/plain": [
       "array([1., 1., 1., 1., 1., 1., 1., 1., 1., 1., 1., 1., 1., 1., 1., 1., 1.,\n",
       "       1., 1., 1., 1., 1., 1., 1., 1., 1., 1., 1., 1., 1., 1., 1., 1., 1.,\n",
       "       1., 1., 1., 1., 1., 1., 1., 1., 1., 1., 1., 1., 1., 1., 1., 1., 1.,\n",
       "       1., 1., 1., 1., 1., 1., 1., 1., 1., 1., 1., 1., 1., 1., 1., 1., 1.,\n",
       "       1., 1., 0., 1., 0., 1., 1., 1., 1., 1., 1., 1., 1., 1., 1., 0., 1.,\n",
       "       1., 1., 1., 1., 1., 1., 1., 1., 1., 1., 1., 1., 1., 1., 1., 1., 1.,\n",
       "       1., 1., 1., 1., 0., 1., 1., 1., 1., 1., 1., 1., 1., 1., 1., 1., 1.,\n",
       "       0., 1., 1., 1., 1., 1., 1., 1., 1., 1., 1., 1., 1., 1., 0., 1., 1.,\n",
       "       1., 1., 1., 1., 1., 1., 1., 1., 1., 1., 1., 1., 1., 1.])"
      ]
     },
     "execution_count": 22,
     "metadata": {},
     "output_type": "execute_result"
    }
   ],
   "source": [
    "from sklearn.model_selection import LeaveOneOut\n",
    "scores = cross_val_score(model, X, y, cv=LeaveOneOut())\n",
    "scores"
   ]
  },
  {
   "cell_type": "code",
   "execution_count": 23,
   "id": "7666ba5c",
   "metadata": {},
   "outputs": [
    {
     "data": {
      "text/plain": [
       "0.96"
      ]
     },
     "execution_count": 23,
     "metadata": {},
     "output_type": "execute_result"
    }
   ],
   "source": [
    "scores.mean()"
   ]
  },
  {
   "cell_type": "markdown",
   "id": "e35048b6",
   "metadata": {},
   "source": [
    "#### Selecting the Best Model"
   ]
  },
  {
   "cell_type": "markdown",
   "id": "96f8fbe3",
   "metadata": {},
   "source": [
    "###### Validation curves in Scikit-Learn\n"
   ]
  },
  {
   "cell_type": "code",
   "execution_count": 26,
   "id": "bfc963b9",
   "metadata": {},
   "outputs": [],
   "source": [
    "from sklearn.preprocessing import PolynomialFeatures\n",
    "from sklearn.linear_model import LinearRegression\n",
    "from sklearn.pipeline import make_pipeline\n",
    "\n",
    "def PolynomialRegression(degree=2,**kwargs):\n",
    "    return make_pipeline(PolynomialFeatures(degree),\n",
    "                        LinearRegression(**kwargs))"
   ]
  },
  {
   "cell_type": "code",
   "execution_count": 27,
   "id": "e9b339df",
   "metadata": {},
   "outputs": [],
   "source": [
    "import numpy as np\n",
    "\n",
    "def make_data(N,err=1.0,rseed=1):\n",
    "    #randomly sample the data \n",
    "    rng=np.random.RandomState(rseed)\n",
    "    X=rng.rand(N,1)**2\n",
    "    y=10-1/(X.ravel()+0.1)\n",
    "    if err>0:\n",
    "        y+=err*rng.randn(N)\n",
    "    return X,y\n",
    "\n",
    "X,y=make_data(40)"
   ]
  },
  {
   "cell_type": "code",
   "execution_count": 28,
   "id": "9db5e80e",
   "metadata": {},
   "outputs": [
    {
     "data": {
      "image/png": "[encoded data removed]",
      "text/plain": [
       "<Figure size 640x480 with 1 Axes>"
      ]
     },
     "metadata": {},
     "output_type": "display_data"
    }
   ],
   "source": [
    "%matplotlib inline\n",
    "import matplotlib.pyplot as plt\n",
    "import seaborn as sns;\n",
    "sns.set()\n",
    "\n",
    "X_test=np.linspace(-0.1,1.1,500)[:,None]\n",
    "\n",
    "plt.scatter(X.ravel(),y,color='black')\n",
    "axis=plt.axis()\n",
    "for degree in[1,3,5]:\n",
    "    y_test=PolynomialRegression(degree).fit(X,y).predict(X_test)\n",
    "    plt.plot(X_test.ravel(),y_test,label='degree={0}'.format(degree))\n",
    "plt.xlim(-0.1,1.0)\n",
    "plt.ylim(-2,12)\n",
    "plt.legend(loc='best');"
   ]
  },
  {
   "cell_type": "code",
   "execution_count": 37,
   "id": "dc7b54bf",
   "metadata": {},
   "outputs": [
    {
     "ename": "SyntaxError",
     "evalue": "positional argument follows keyword argument (2199217447.py, line 5)",
     "output_type": "error",
     "traceback": [
      "\u001b[1;36m  File \u001b[1;32m\"C:\\Users\\User\\AppData\\Local\\Temp\\ipykernel_11072\\2199217447.py\"\u001b[1;36m, line \u001b[1;32m5\u001b[0m\n\u001b[1;33m    degree,cv=7)\u001b[0m\n\u001b[1;37m               ^\u001b[0m\n\u001b[1;31mSyntaxError\u001b[0m\u001b[1;31m:\u001b[0m positional argument follows keyword argument\n"
     ]
    }
   ],
   "source": [
    "from sklearn.model_selection import validation_curve\n",
    "degree=np.arange(0,21)\n",
    "train_score,val_score=validation_curve(PolynomialRegression(),X,y,\n",
    "                                       param_name='polynomialfeatures_degree',\n",
    "                                       degree,cv=7)\n",
    "\n",
    "plt.plot(degree,np.median(train_score,1), color='blue', label='training score')\n",
    "plt.plot(degree, np.median(val_score,1), color='red',label='Variance Score')\n",
    "plt.legend(loc='lower left')\n",
    "plt.ylim(0,1)\n",
    "plt.xlabel('degree')\n",
    "plt.ylabel('score');"
   ]
  },
  {
   "cell_type": "code",
   "execution_count": 31,
   "id": "002e8873",
   "metadata": {},
   "outputs": [],
   "source": [
    "validation_curve?"
   ]
  },
  {
   "cell_type": "code",
   "execution_count": null,
   "id": "edebf3a9",
   "metadata": {},
   "outputs": [],
   "source": []
  }
 ],
 "metadata": {
  "kernelspec": {
   "display_name": "Python 3 (ipykernel)",
   "language": "python",
   "name": "python3"
  },
  "language_info": {
   "codemirror_mode": {
    "name": "ipython",
    "version": 3
   },
   "file_extension": ".py",
   "mimetype": "text/x-python",
   "name": "python",
   "nbconvert_exporter": "python",
   "pygments_lexer": "ipython3",
   "version": "3.9.13"
  }
 },
 "nbformat": 4,
 "nbformat_minor": 5
}
